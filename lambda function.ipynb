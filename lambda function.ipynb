{
 "cells": [
  {
   "cell_type": "code",
   "execution_count": null,
   "metadata": {},
   "outputs": [],
   "source": [
    "import json\n",
    "import boto3\n",
    "import uuid\n",
    "\n",
    "\n",
    "dynamodb = boto3.resource('dynamodb')\n",
    "table = dynamodb.Table('social_media_post1')\n",
    "\n",
    "def lambda_handler(event, context):\n",
    "    # Process the incoming post\n",
    "    post_text = event.get('text', '')\n",
    "    hashtags = event.get('hashtags', [])\n",
    "    \n",
    "    # Generate a unique PostID\n",
    "    post_id = str(uuid.uuid4())\n",
    "    \n",
    "    # Store the post in DynamoDB\n",
    "    table.put_item(\n",
    "        Item={\n",
    "            'ID': post_id,\n",
    "            'Hashtag': hashtags,\n",
    "            'message': post_text\n",
    "        }\n",
    "    )\n",
    "    \n",
    "    # Retrieve all posts to calculate trending hashtags\n",
    "    response = table.scan()\n",
    "    items = response['Items']\n",
    "    \n",
    "    all_hashtags = []\n",
    "    for item in items:\n",
    "        all_hashtags.extend(item['Hashtag'])\n",
    "    \n",
    "    # Count the frequency of each hashtag (Manual Counter)\n",
    "    hashtag_counts = {}\n",
    "    for hashtag in all_hashtags:\n",
    "        if hashtag in hashtag_counts:\n",
    "            hashtag_counts[hashtag] += 1\n",
    "        else:\n",
    "            hashtag_counts[hashtag] = 1\n",
    "    print(hashtag_counts.items())\n",
    "    # Sort the hashtags by frequency in descending order and take the top 10\n",
    "    trending_hashtags = sorted(hashtag_counts.items(), key=lambda item: item[1], reverse=True)[:10]\n",
    "    \n",
    "    return {\n",
    "        'statusCode': 200,\n",
    "        'body': json.dumps(trending_hashtags)\n",
    "    }\n"
   ]
  }
 ],
 "metadata": {
  "language_info": {
   "name": "python"
  }
 },
 "nbformat": 4,
 "nbformat_minor": 2
}
